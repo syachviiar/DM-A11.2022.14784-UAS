{
  "nbformat": 4,
  "nbformat_minor": 0,
  "metadata": {
    "colab": {
      "provenance": []
    },
    "kernelspec": {
      "name": "python3",
      "display_name": "Python 3"
    },
    "language_info": {
      "name": "python"
    }
  },
  "cells": [
    {
      "cell_type": "markdown",
      "source": [
        "#Preprocessing Lung Disease"
      ],
      "metadata": {
        "id": "_diUsL0Tf8jf"
      }
    },
    {
      "cell_type": "markdown",
      "source": [
        "##Memuat Dataset\n",
        "- Membaca file dataset ke dalam Python menggunakan pustaka seperti pandas."
      ],
      "metadata": {
        "id": "6uPpCVJMgB-r"
      }
    },
    {
      "cell_type": "code",
      "source": [
        "import pandas as pd\n",
        "from sklearn.model_selection import train_test_split\n",
        "from sklearn.preprocessing import LabelEncoder, StandardScaler\n",
        "\n",
        "# 1. Memuat Dataset\n",
        "file_path = '/content/predic_tabel.csv'\n",
        "df = pd.read_csv(file_path)"
      ],
      "metadata": {
        "id": "iq-H5GIJhGoL"
      },
      "execution_count": 2,
      "outputs": []
    },
    {
      "cell_type": "markdown",
      "source": [
        "##Eksplorasi Data\n",
        "- Menampilkan informasi dataset (kolom, tipe data, dll.).\n",
        "- Menampilkan beberapa baris pertama untuk memahami struktur data."
      ],
      "metadata": {
        "id": "uECLjT3cgKwn"
      }
    },
    {
      "cell_type": "code",
      "source": [
        "# 2. Eksplorasi Data\n",
        "print(\"Informasi Dataset:\")\n",
        "print(df.info())\n",
        "print(\"\\nLima Baris Pertama:\")\n",
        "print(df.head())"
      ],
      "metadata": {
        "colab": {
          "base_uri": "https://localhost:8080/"
        },
        "id": "LEHLw4dqhKtl",
        "outputId": "74bf7547-9f76-4116-9625-869f80b9b202"
      },
      "execution_count": 3,
      "outputs": [
        {
          "output_type": "stream",
          "name": "stdout",
          "text": [
            "Informasi Dataset:\n",
            "<class 'pandas.core.frame.DataFrame'>\n",
            "RangeIndex: 30000 entries, 0 to 29999\n",
            "Data columns (total 11 columns):\n",
            " #   Column              Non-Null Count  Dtype \n",
            "---  ------              --------------  ----- \n",
            " 0   No                  30000 non-null  int64 \n",
            " 1   Usia                30000 non-null  object\n",
            " 2   Jenis_Kelamin       30000 non-null  object\n",
            " 3   Merokok             30000 non-null  object\n",
            " 4   Bekerja             30000 non-null  object\n",
            " 5   Rumah_Tangga        30000 non-null  object\n",
            " 6   Aktivitas_Begadang  30000 non-null  object\n",
            " 7   Aktivitas_Olahraga  30000 non-null  object\n",
            " 8   Asuransi            30000 non-null  object\n",
            " 9   Penyakit_Bawaan     30000 non-null  object\n",
            " 10  Hasil               30000 non-null  object\n",
            "dtypes: int64(1), object(10)\n",
            "memory usage: 2.5+ MB\n",
            "None\n",
            "\n",
            "Lima Baris Pertama:\n",
            "   No  Usia Jenis_Kelamin Merokok Bekerja Rumah_Tangga Aktivitas_Begadang  \\\n",
            "0   1   Tua          Pria   Pasif   Tidak           Ya                 Ya   \n",
            "1   2   Tua          Pria   Aktif   Tidak           Ya                 Ya   \n",
            "2   3  Muda          Pria   Aktif   Tidak           Ya                 Ya   \n",
            "3   4   Tua          Pria   Aktif      Ya        Tidak              Tidak   \n",
            "4   5  Muda        Wanita   Pasif      Ya        Tidak              Tidak   \n",
            "\n",
            "  Aktivitas_Olahraga Asuransi Penyakit_Bawaan  Hasil  \n",
            "0             Sering      Ada           Tidak     Ya  \n",
            "1             Jarang      Ada             Ada  Tidak  \n",
            "2             Jarang      Ada           Tidak  Tidak  \n",
            "3             Jarang      Ada             Ada  Tidak  \n",
            "4             Sering    Tidak             Ada     Ya  \n"
          ]
        }
      ]
    },
    {
      "cell_type": "markdown",
      "source": [
        "##Menangani Missing Values:\n",
        "- Mengidentifikasi nilai yang hilang (NA/null).\n",
        "- Mengisi nilai hilang atau menghapus baris/kolom yang relevan."
      ],
      "metadata": {
        "id": "1lghw5M3gKo7"
      }
    },
    {
      "cell_type": "code",
      "source": [
        "# 3. Menangani Missing Values\n",
        "print(\"\\nJumlah Missing Values per Kolom:\")\n",
        "print(df.isnull().sum())"
      ],
      "metadata": {
        "colab": {
          "base_uri": "https://localhost:8080/"
        },
        "id": "-EhBBWyphMws",
        "outputId": "f8517354-3f35-4645-b9ab-d323a7ec221a"
      },
      "execution_count": 4,
      "outputs": [
        {
          "output_type": "stream",
          "name": "stdout",
          "text": [
            "\n",
            "Jumlah Missing Values per Kolom:\n",
            "No                    0\n",
            "Usia                  0\n",
            "Jenis_Kelamin         0\n",
            "Merokok               0\n",
            "Bekerja               0\n",
            "Rumah_Tangga          0\n",
            "Aktivitas_Begadang    0\n",
            "Aktivitas_Olahraga    0\n",
            "Asuransi              0\n",
            "Penyakit_Bawaan       0\n",
            "Hasil                 0\n",
            "dtype: int64\n"
          ]
        }
      ]
    },
    {
      "cell_type": "code",
      "source": [
        "# Mengisi nilai hilang dengan rata-rata (numerik) atau modus (kategorikal)\n",
        "for col in df.columns:\n",
        "    if df[col].dtype in ['int64', 'float64']:\n",
        "        df[col].fillna(df[col].mean(), inplace=True)\n",
        "    else:\n",
        "        df[col].fillna(df[col].mode()[0], inplace=True)\n",
        "\n",
        "print(\"\\nMissing Values setelah penanganan:\")\n",
        "print(df.isnull().sum())"
      ],
      "metadata": {
        "colab": {
          "base_uri": "https://localhost:8080/"
        },
        "id": "gurSBWR4hPNL",
        "outputId": "9fb3c4b7-91ea-4f42-e8b1-608da2acfdaf"
      },
      "execution_count": 5,
      "outputs": [
        {
          "output_type": "stream",
          "name": "stdout",
          "text": [
            "\n",
            "Missing Values setelah penanganan:\n",
            "No                    0\n",
            "Usia                  0\n",
            "Jenis_Kelamin         0\n",
            "Merokok               0\n",
            "Bekerja               0\n",
            "Rumah_Tangga          0\n",
            "Aktivitas_Begadang    0\n",
            "Aktivitas_Olahraga    0\n",
            "Asuransi              0\n",
            "Penyakit_Bawaan       0\n",
            "Hasil                 0\n",
            "dtype: int64\n"
          ]
        },
        {
          "output_type": "stream",
          "name": "stderr",
          "text": [
            "<ipython-input-5-0dd66c98406f>:4: FutureWarning: A value is trying to be set on a copy of a DataFrame or Series through chained assignment using an inplace method.\n",
            "The behavior will change in pandas 3.0. This inplace method will never work because the intermediate object on which we are setting values always behaves as a copy.\n",
            "\n",
            "For example, when doing 'df[col].method(value, inplace=True)', try using 'df.method({col: value}, inplace=True)' or df[col] = df[col].method(value) instead, to perform the operation inplace on the original object.\n",
            "\n",
            "\n",
            "  df[col].fillna(df[col].mean(), inplace=True)\n",
            "<ipython-input-5-0dd66c98406f>:6: FutureWarning: A value is trying to be set on a copy of a DataFrame or Series through chained assignment using an inplace method.\n",
            "The behavior will change in pandas 3.0. This inplace method will never work because the intermediate object on which we are setting values always behaves as a copy.\n",
            "\n",
            "For example, when doing 'df[col].method(value, inplace=True)', try using 'df.method({col: value}, inplace=True)' or df[col] = df[col].method(value) instead, to perform the operation inplace on the original object.\n",
            "\n",
            "\n",
            "  df[col].fillna(df[col].mode()[0], inplace=True)\n"
          ]
        }
      ]
    },
    {
      "cell_type": "markdown",
      "source": [
        "##Normalisasi/Standarisasi Data\n",
        "Menskalakan data numerik untuk menyamakan skala."
      ],
      "metadata": {
        "id": "qFfhTyDfg3Q6"
      }
    },
    {
      "cell_type": "code",
      "source": [
        "# 4. Normalisasi/Standarisasi Data\n",
        "scaler = StandardScaler()\n",
        "numerical_cols = df.select_dtypes(include=['int64', 'float64']).columns\n",
        "df[numerical_cols] = scaler.fit_transform(df[numerical_cols])"
      ],
      "metadata": {
        "id": "mGa6J7UnhYFL"
      },
      "execution_count": 6,
      "outputs": []
    },
    {
      "cell_type": "markdown",
      "source": [
        "##One-Hot Encoding atau Label Encoding\n",
        "Mengonversi data kategoris menjadi format numerik."
      ],
      "metadata": {
        "id": "iyPO7X2hg3Ib"
      }
    },
    {
      "cell_type": "code",
      "source": [
        "# 5. One-Hot Encoding atau Label Encoding\n",
        "# Menggunakan LabelEncoder untuk kolom kategorikal\n",
        "label_encoders = {}\n",
        "categorical_columns = df.select_dtypes(include='object').columns\n",
        "\n",
        "for col in categorical_columns:\n",
        "    le = LabelEncoder()\n",
        "    df[col] = le.fit_transform(df[col])\n",
        "    label_encoders[col] = le"
      ],
      "metadata": {
        "id": "3dxeS-X8haEs"
      },
      "execution_count": 7,
      "outputs": []
    },
    {
      "cell_type": "markdown",
      "source": [
        "##Fitur Engineering\n",
        "Membuat kolom baru atau menghapus kolom yang tidak relevan."
      ],
      "metadata": {
        "id": "NNmijdjBg-Wz"
      }
    },
    {
      "cell_type": "code",
      "source": [
        "# 6. Fitur Engineering (contoh: membuat kolom baru atau menghapus kolom yang tidak relevan)\n",
        "# Contoh menghapus kolom 'No' karena tidak relevan\n",
        "if 'No' in df.columns:\n",
        "    df.drop(columns=['No'], inplace=True)"
      ],
      "metadata": {
        "id": "po0CIvTnhcJ0"
      },
      "execution_count": 8,
      "outputs": []
    },
    {
      "cell_type": "markdown",
      "source": [
        "##Memisahkan Data Latih dan Uji\n",
        "Membagi dataset menjadi data pelatihan dan pengujian."
      ],
      "metadata": {
        "id": "DNpUrxKShBy7"
      }
    },
    {
      "cell_type": "code",
      "execution_count": 9,
      "metadata": {
        "colab": {
          "base_uri": "https://localhost:8080/"
        },
        "id": "5NwchSJgZdkO",
        "outputId": "70311895-7242-48c7-8496-26ed40105cad"
      },
      "outputs": [
        {
          "output_type": "stream",
          "name": "stdout",
          "text": [
            "\n",
            "Data Latih dan Uji berhasil dipisahkan:\n",
            "Jumlah Data Latih: 24000\n",
            "Jumlah Data Uji: 6000\n"
          ]
        }
      ],
      "source": [
        "# 7. Memisahkan Data Latih dan Uji\n",
        "X = df.drop(columns=['Hasil'])  # Ganti 'Hasil' dengan kolom target Anda\n",
        "y = df['Hasil']\n",
        "X_train, X_test, y_train, y_test = train_test_split(X, y, test_size=0.2, random_state=42)\n",
        "\n",
        "print(\"\\nData Latih dan Uji berhasil dipisahkan:\")\n",
        "print(f\"Jumlah Data Latih: {len(X_train)}\")\n",
        "print(f\"Jumlah Data Uji: {len(X_test)}\")"
      ]
    }
  ]
}