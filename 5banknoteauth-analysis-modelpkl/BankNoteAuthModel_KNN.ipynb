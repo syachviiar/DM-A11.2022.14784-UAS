{
  "nbformat": 4,
  "nbformat_minor": 0,
  "metadata": {
    "colab": {
      "provenance": []
    },
    "kernelspec": {
      "name": "python3",
      "display_name": "Python 3"
    },
    "language_info": {
      "name": "python"
    }
  },
  "cells": [
    {
      "cell_type": "markdown",
      "source": [
        "#Model Bank Note Auth - KNN"
      ],
      "metadata": {
        "id": "TvNuAFWC8U5E"
      }
    },
    {
      "cell_type": "markdown",
      "source": [
        "##Import Libraries"
      ],
      "metadata": {
        "id": "YiewTRyx8PhF"
      }
    },
    {
      "cell_type": "code",
      "execution_count": null,
      "metadata": {
        "id": "2BxxTAPbZYaO"
      },
      "outputs": [],
      "source": [
        "# Load libraries\n",
        "import numpy as np\n",
        "import pandas as pd\n",
        "import matplotlib.pyplot as plt\n",
        "import seaborn as sns\n",
        "from sklearn.model_selection import train_test_split\n",
        "from sklearn import metrics\n",
        "from sklearn.metrics import accuracy_score\n",
        "from sklearn.svm import SVC\n",
        "from sklearn.model_selection import train_test_split\n",
        "from sklearn.naive_bayes import GaussianNB\n",
        "from sklearn.neighbors import KNeighborsClassifier\n",
        "from sklearn.linear_model import LogisticRegression\n",
        "from sklearn import metrics"
      ]
    },
    {
      "cell_type": "markdown",
      "source": [
        "##Load Dataset"
      ],
      "metadata": {
        "id": "McST5SHe8S4L"
      }
    },
    {
      "cell_type": "code",
      "source": [
        "# Access Dataset\n",
        "data = pd.read_csv('/content/BankNoteAuthentication.csv')\n",
        "# Data preparation and Exploration\n",
        "print('Number of Rows: ', data.shape[0])\n",
        "print('Number of Columns: ', data.shape[1], '\\n')\n",
        "print('SubSet of Data:\\n ', data.head(), '\\n')"
      ],
      "metadata": {
        "colab": {
          "base_uri": "https://localhost:8080/"
        },
        "id": "oOfQGfgpZ8hl",
        "outputId": "c29dde2f-a482-4628-b264-9b8ef768f2ec"
      },
      "execution_count": null,
      "outputs": [
        {
          "output_type": "stream",
          "name": "stdout",
          "text": [
            "Number of Rows:  1372\n",
            "Number of Columns:  5 \n",
            "\n",
            "SubSet of Data:\n",
            "     variance  skewness  curtosis  entropy  class\n",
            "0   3.62160    8.6661   -2.8073 -0.44699      0\n",
            "1   4.54590    8.1674   -2.4586 -1.46210      0\n",
            "2   3.86600   -2.6383    1.9242  0.10645      0\n",
            "3   3.45660    9.5228   -4.0112 -3.59440      0\n",
            "4   0.32924   -4.4552    4.5718 -0.98880      0 \n",
            "\n"
          ]
        }
      ]
    },
    {
      "cell_type": "markdown",
      "source": [
        "##Data Preperation"
      ],
      "metadata": {
        "id": "JJdJS_ON8gLM"
      }
    },
    {
      "cell_type": "code",
      "source": [
        "# labeling data\n",
        "labels = ['Variance', 'Skewness', 'Kurtosis', 'Entropy', 'Target']\n",
        "data.columns = labels\n",
        "print('Columns Names:', data.columns, '\\n')\n",
        "print('Data Describe:\\n ', data.describe(), '\\n')\n",
        "print('Data Information:'); print(data.info())"
      ],
      "metadata": {
        "colab": {
          "base_uri": "https://localhost:8080/"
        },
        "id": "-XklyQv9Z8cu",
        "outputId": "20dee2f1-ee2c-4d74-8be0-ce2dda1f5dc6"
      },
      "execution_count": null,
      "outputs": [
        {
          "output_type": "stream",
          "name": "stdout",
          "text": [
            "Columns Names: Index(['Variance', 'Skewness', 'Kurtosis', 'Entropy', 'Target'], dtype='object') \n",
            "\n",
            "Data Describe:\n",
            "            Variance     Skewness     Kurtosis      Entropy       Target\n",
            "count  1372.000000  1372.000000  1372.000000  1372.000000  1372.000000\n",
            "mean      0.433735     1.922353     1.397627    -1.191657     0.444606\n",
            "std       2.842763     5.869047     4.310030     2.101013     0.497103\n",
            "min      -7.042100   -13.773100    -5.286100    -8.548200     0.000000\n",
            "25%      -1.773000    -1.708200    -1.574975    -2.413450     0.000000\n",
            "50%       0.496180     2.319650     0.616630    -0.586650     0.000000\n",
            "75%       2.821475     6.814625     3.179250     0.394810     1.000000\n",
            "max       6.824800    12.951600    17.927400     2.449500     1.000000 \n",
            "\n",
            "Data Information:\n",
            "<class 'pandas.core.frame.DataFrame'>\n",
            "RangeIndex: 1372 entries, 0 to 1371\n",
            "Data columns (total 5 columns):\n",
            " #   Column    Non-Null Count  Dtype  \n",
            "---  ------    --------------  -----  \n",
            " 0   Variance  1372 non-null   float64\n",
            " 1   Skewness  1372 non-null   float64\n",
            " 2   Kurtosis  1372 non-null   float64\n",
            " 3   Entropy   1372 non-null   float64\n",
            " 4   Target    1372 non-null   int64  \n",
            "dtypes: float64(4), int64(1)\n",
            "memory usage: 53.7 KB\n",
            "None\n"
          ]
        }
      ]
    },
    {
      "cell_type": "code",
      "source": [
        "# Check For duplicated\n",
        "print(data.duplicated().any())\n",
        "duplicated = data.duplicated()\n",
        "print('Number of duplicated data: ', duplicated[duplicated == True].size)"
      ],
      "metadata": {
        "colab": {
          "base_uri": "https://localhost:8080/"
        },
        "id": "V8wFLOrWZ8U2",
        "outputId": "06704c50-4605-4061-c829-4da384a64b2b"
      },
      "execution_count": null,
      "outputs": [
        {
          "output_type": "stream",
          "name": "stdout",
          "text": [
            "True\n",
            "Number of duplicated data:  24\n"
          ]
        }
      ]
    },
    {
      "cell_type": "markdown",
      "source": [
        "##Split Data"
      ],
      "metadata": {
        "id": "byoYytUT8kET"
      }
    },
    {
      "cell_type": "code",
      "source": [
        "# Data Split\n",
        "x = data.drop('Target', axis=1).values\n",
        "y = data['Target'].values\n",
        "X_train, X_test, y_train, y_test = train_test_split(x, y, test_size=0.3, random_state=42)\n",
        "print(X_train.shape)\n",
        "print(y_train.shape)"
      ],
      "metadata": {
        "colab": {
          "base_uri": "https://localhost:8080/"
        },
        "id": "GbnZg_v0aPC2",
        "outputId": "150a086e-3f07-455f-8e47-5a850786b937"
      },
      "execution_count": null,
      "outputs": [
        {
          "output_type": "stream",
          "name": "stdout",
          "text": [
            "(960, 4)\n",
            "(960,)\n"
          ]
        }
      ]
    },
    {
      "cell_type": "markdown",
      "source": [
        "##KNN Model"
      ],
      "metadata": {
        "id": "FZutxsF_8ml8"
      }
    },
    {
      "cell_type": "code",
      "source": [
        "# KNN Algorithm\n",
        "knn = KNeighborsClassifier(n_neighbors=5)\n",
        "\n",
        "# fitting training data\n",
        "knn.fit(X_train, y_train)\n",
        "\n",
        "# predicted data\n",
        "y_predicted = knn.predict(X_test)\n",
        "\n",
        "# KNN Results\n",
        "\n",
        "# Classification Report\n",
        "print(\"Classification Report\")\n",
        "print(metrics.classification_report(y_test, y_predicted))\n",
        "\n",
        "# Accuracy Score matrix\n",
        "print('Accuracy of KNN Algorithm: '\n",
        "      , metrics.accuracy_score(y_test, y_predicted)*100)\n",
        "# F1 Score\n",
        "f1_score_knn = metrics.f1_score(y_test, y_predicted, average='micro')\n",
        "\n",
        "# Confusion matrix\n",
        "cm_knn = metrics.confusion_matrix(y_test, y_predicted)\n",
        "\n",
        "# recall\n",
        "recall_KNN = metrics.recall_score(y_test, y_predicted)\n",
        "\n",
        "# Heatmap confusion matrix\n",
        "sns.heatmap(cm_knn, annot=True, fmt=\".0f\", linewidths=3, square=True, cmap='Blues', color=\"#cd1076\")\n",
        "plt.ylabel('actual label')\n",
        "plt.xlabel('predicted label')\n",
        "\n",
        "# show F1 Score and Recall\n",
        "plt.title(f'F1 Score [KNN Algorithm]: {f1_score_knn:.2f}\\n'\n",
        "          f'Recall [KNN Algorithm]: {recall_KNN:.2f}', size=14, color='black')\n",
        "plt.show()"
      ],
      "metadata": {
        "colab": {
          "base_uri": "https://localhost:8080/",
          "height": 686
        },
        "id": "W5ZUG6TAaUR2",
        "outputId": "1bce9b1d-35a9-4cfb-e9d4-312c0bb21c52"
      },
      "execution_count": null,
      "outputs": [
        {
          "output_type": "stream",
          "name": "stdout",
          "text": [
            "Classification Report\n",
            "              precision    recall  f1-score   support\n",
            "\n",
            "           0       1.00      1.00      1.00       229\n",
            "           1       1.00      1.00      1.00       183\n",
            "\n",
            "    accuracy                           1.00       412\n",
            "   macro avg       1.00      1.00      1.00       412\n",
            "weighted avg       1.00      1.00      1.00       412\n",
            "\n",
            "Accuracy of KNN Algorithm:  100.0\n"
          ]
        },
        {
          "output_type": "display_data",
          "data": {
            "text/plain": [
              "<Figure size 640x480 with 2 Axes>"
            ],
            "image/png": "[encoded data removed]"
          },
          "metadata": {}
        }
      ]
    },
    {
      "cell_type": "markdown",
      "source": [
        "##Download KNN model.pkl"
      ],
      "metadata": {
        "id": "JKQuvsFK8pu0"
      }
    },
    {
      "cell_type": "code",
      "source": [
        "import joblib\n",
        "\n",
        "# Simpan model ke file model.pkl\n",
        "model_filename = \"model.pkl\"\n",
        "joblib.dump(knn, model_filename)\n",
        "print(f\"Model telah disimpan ke {model_filename}\")"
      ],
      "metadata": {
        "colab": {
          "base_uri": "https://localhost:8080/"
        },
        "id": "oPJ05FFYVPVp",
        "outputId": "36573eec-cbe1-4bef-fb2b-c579df710599"
      },
      "execution_count": null,
      "outputs": [
        {
          "output_type": "stream",
          "name": "stdout",
          "text": [
            "Model telah disimpan ke model.pkl\n"
          ]
        }
      ]
    }
  ]
}