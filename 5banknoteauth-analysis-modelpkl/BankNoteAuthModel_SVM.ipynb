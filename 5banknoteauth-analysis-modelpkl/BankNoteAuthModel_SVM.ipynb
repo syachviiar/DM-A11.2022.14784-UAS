{
  "nbformat": 4,
  "nbformat_minor": 0,
  "metadata": {
    "colab": {
      "provenance": []
    },
    "kernelspec": {
      "name": "python3",
      "display_name": "Python 3"
    },
    "language_info": {
      "name": "python"
    }
  },
  "cells": [
    {
      "cell_type": "markdown",
      "source": [
        "#Model Bank Note Auth - SVM"
      ],
      "metadata": {
        "id": "TvNuAFWC8U5E"
      }
    },
    {
      "cell_type": "markdown",
      "source": [
        "##Import Libraries"
      ],
      "metadata": {
        "id": "YiewTRyx8PhF"
      }
    },
    {
      "cell_type": "code",
      "execution_count": 10,
      "metadata": {
        "id": "2BxxTAPbZYaO"
      },
      "outputs": [],
      "source": [
        "# Load libraries\n",
        "import numpy as np\n",
        "import pandas as pd\n",
        "import matplotlib.pyplot as plt\n",
        "import seaborn as sns\n",
        "from sklearn.model_selection import train_test_split\n",
        "from sklearn import metrics\n",
        "from sklearn.metrics import accuracy_score\n",
        "from sklearn.svm import SVC"
      ]
    },
    {
      "cell_type": "markdown",
      "source": [
        "##Load Dataset"
      ],
      "metadata": {
        "id": "McST5SHe8S4L"
      }
    },
    {
      "cell_type": "code",
      "source": [
        "# Access Dataset\n",
        "data = pd.read_csv('/content/BankNoteAuthentication.csv')\n",
        "# Data preparation and Exploration\n",
        "print('Number of Rows: ', data.shape[0])\n",
        "print('Number of Columns: ', data.shape[1], '\\n')\n",
        "print('SubSet of Data:\\n ', data.head(), '\\n')"
      ],
      "metadata": {
        "colab": {
          "base_uri": "https://localhost:8080/"
        },
        "id": "oOfQGfgpZ8hl",
        "outputId": "5b8724df-b395-46bc-8143-2c1b55dcecf5"
      },
      "execution_count": 11,
      "outputs": [
        {
          "output_type": "stream",
          "name": "stdout",
          "text": [
            "Number of Rows:  1372\n",
            "Number of Columns:  5 \n",
            "\n",
            "SubSet of Data:\n",
            "     variance  skewness  curtosis  entropy  class\n",
            "0   3.62160    8.6661   -2.8073 -0.44699      0\n",
            "1   4.54590    8.1674   -2.4586 -1.46210      0\n",
            "2   3.86600   -2.6383    1.9242  0.10645      0\n",
            "3   3.45660    9.5228   -4.0112 -3.59440      0\n",
            "4   0.32924   -4.4552    4.5718 -0.98880      0 \n",
            "\n"
          ]
        }
      ]
    },
    {
      "cell_type": "markdown",
      "source": [
        "##Data Preperation"
      ],
      "metadata": {
        "id": "JJdJS_ON8gLM"
      }
    },
    {
      "cell_type": "code",
      "source": [
        "# labeling data\n",
        "labels = ['Variance', 'Skewness', 'Kurtosis', 'Entropy', 'Target']\n",
        "data.columns = labels\n",
        "print('Columns Names:', data.columns, '\\n')\n",
        "print('Data Describe:\\n ', data.describe(), '\\n')\n",
        "print('Data Information:'); print(data.info())"
      ],
      "metadata": {
        "colab": {
          "base_uri": "https://localhost:8080/"
        },
        "id": "-XklyQv9Z8cu",
        "outputId": "225bed56-b8c8-4fc2-d67f-84f45f2a2ab1"
      },
      "execution_count": 12,
      "outputs": [
        {
          "output_type": "stream",
          "name": "stdout",
          "text": [
            "Columns Names: Index(['Variance', 'Skewness', 'Kurtosis', 'Entropy', 'Target'], dtype='object') \n",
            "\n",
            "Data Describe:\n",
            "            Variance     Skewness     Kurtosis      Entropy       Target\n",
            "count  1372.000000  1372.000000  1372.000000  1372.000000  1372.000000\n",
            "mean      0.433735     1.922353     1.397627    -1.191657     0.444606\n",
            "std       2.842763     5.869047     4.310030     2.101013     0.497103\n",
            "min      -7.042100   -13.773100    -5.286100    -8.548200     0.000000\n",
            "25%      -1.773000    -1.708200    -1.574975    -2.413450     0.000000\n",
            "50%       0.496180     2.319650     0.616630    -0.586650     0.000000\n",
            "75%       2.821475     6.814625     3.179250     0.394810     1.000000\n",
            "max       6.824800    12.951600    17.927400     2.449500     1.000000 \n",
            "\n",
            "Data Information:\n",
            "<class 'pandas.core.frame.DataFrame'>\n",
            "RangeIndex: 1372 entries, 0 to 1371\n",
            "Data columns (total 5 columns):\n",
            " #   Column    Non-Null Count  Dtype  \n",
            "---  ------    --------------  -----  \n",
            " 0   Variance  1372 non-null   float64\n",
            " 1   Skewness  1372 non-null   float64\n",
            " 2   Kurtosis  1372 non-null   float64\n",
            " 3   Entropy   1372 non-null   float64\n",
            " 4   Target    1372 non-null   int64  \n",
            "dtypes: float64(4), int64(1)\n",
            "memory usage: 53.7 KB\n",
            "None\n"
          ]
        }
      ]
    },
    {
      "cell_type": "code",
      "source": [
        "# Check For duplicated\n",
        "print(data.duplicated().any())\n",
        "duplicated = data.duplicated()\n",
        "print('Number of duplicated data: ', duplicated[duplicated == True].size)"
      ],
      "metadata": {
        "colab": {
          "base_uri": "https://localhost:8080/"
        },
        "id": "V8wFLOrWZ8U2",
        "outputId": "87f4026d-6105-41f8-bb45-bf507abc7b7a"
      },
      "execution_count": 13,
      "outputs": [
        {
          "output_type": "stream",
          "name": "stdout",
          "text": [
            "True\n",
            "Number of duplicated data:  24\n"
          ]
        }
      ]
    },
    {
      "cell_type": "markdown",
      "source": [
        "##Split Data"
      ],
      "metadata": {
        "id": "byoYytUT8kET"
      }
    },
    {
      "cell_type": "code",
      "source": [
        "# Data Split\n",
        "x = data.drop('Target', axis=1).values\n",
        "y = data['Target'].values\n",
        "X_train, X_test, y_train, y_test = train_test_split(x, y, test_size=0.3, random_state=42)\n",
        "print(X_train.shape)\n",
        "print(y_train.shape)"
      ],
      "metadata": {
        "colab": {
          "base_uri": "https://localhost:8080/"
        },
        "id": "GbnZg_v0aPC2",
        "outputId": "ab386ed4-b270-43a1-bdf7-daef04f1d15a"
      },
      "execution_count": 14,
      "outputs": [
        {
          "output_type": "stream",
          "name": "stdout",
          "text": [
            "(960, 4)\n",
            "(960,)\n"
          ]
        }
      ]
    },
    {
      "cell_type": "markdown",
      "source": [
        "##SVM Model"
      ],
      "metadata": {
        "id": "FZutxsF_8ml8"
      }
    },
    {
      "cell_type": "code",
      "source": [
        "# Support Vector Machine\n",
        "# The best SVM \"rdf kernel and C=100\"\n",
        "# SVM with c=100.0\n",
        "svm = SVC(kernel='rbf', C=100.0)\n",
        "\n",
        "# Fitting data\n",
        "svm.fit(X_train, y_train)\n",
        "\n",
        "# predicted data\n",
        "y_predicted = svm.predict(X_test)\n",
        "\n",
        "# SVM Results\n",
        "print('Classification Reports:')\n",
        "print(metrics.classification_report(y_test, y_predicted))\n",
        "\n",
        "# Confusion martrix\n",
        "cm_log = metrics.confusion_matrix(y_test, y_predicted)\n",
        "\n",
        "# Accuracy score matrix\n",
        "print('Accuracy of SVM Algorithm: '\n",
        "      , metrics.accuracy_score(y_test, y_predicted)*100)\n",
        "\n",
        "# F1 Score\n",
        "f1_score_SVM = metrics.f1_score(y_test, y_predicted, average='micro')\n",
        "\n",
        "# confusion matrix\n",
        "cm_SVM = metrics.confusion_matrix(y_test, y_predicted)\n",
        "\n",
        "# recall\n",
        "recall_SVM = metrics.recall_score(y_test, y_predicted)\n",
        "\n",
        "# Heatmap confusion matrix\n",
        "sns.heatmap(cm_log, annot=True, fmt=\".0f\", linewidths=3, square=True, cmap='Blues', color=\"#cd1076\")\n",
        "plt.ylabel('actual label')\n",
        "plt.xlabel('predicted label')\n",
        "\n",
        "# show F1 Score and Recall\n",
        "plt.title(f'F1 Score [SVM Algorithm]: {f1_score_SVM:.2f}\\n'\n",
        "          f'Recall [SVM Algorithm]: {recall_SVM:.2f}', size=14, color='black')\n",
        "plt.show()\n",
        "print('\\n')"
      ],
      "metadata": {
        "colab": {
          "base_uri": "https://localhost:8080/",
          "height": 721
        },
        "id": "W5ZUG6TAaUR2",
        "outputId": "103b0cd4-8b80-4076-a86e-af446a0bd74e"
      },
      "execution_count": 16,
      "outputs": [
        {
          "output_type": "stream",
          "name": "stdout",
          "text": [
            "Classification Reports:\n",
            "              precision    recall  f1-score   support\n",
            "\n",
            "           0       1.00      1.00      1.00       229\n",
            "           1       1.00      1.00      1.00       183\n",
            "\n",
            "    accuracy                           1.00       412\n",
            "   macro avg       1.00      1.00      1.00       412\n",
            "weighted avg       1.00      1.00      1.00       412\n",
            "\n",
            "Accuracy of SVM Algorithm:  100.0\n"
          ]
        },
        {
          "output_type": "display_data",
          "data": {
            "text/plain": [
              "<Figure size 640x480 with 2 Axes>"
            ],
            "image/png": "[encoded data removed]"
          },
          "metadata": {}
        },
        {
          "output_type": "stream",
          "name": "stdout",
          "text": [
            "\n",
            "\n"
          ]
        }
      ]
    },
    {
      "cell_type": "markdown",
      "source": [
        "##Download SVM model.pkl"
      ],
      "metadata": {
        "id": "JKQuvsFK8pu0"
      }
    },
    {
      "cell_type": "code",
      "source": [
        "import joblib\n",
        "\n",
        "# Simpan model ke file model.pkl\n",
        "model_filename = \"model.pkl\"\n",
        "joblib.dump(svm, model_filename)\n",
        "print(f\"Model telah disimpan ke {model_filename}\")"
      ],
      "metadata": {
        "colab": {
          "base_uri": "https://localhost:8080/"
        },
        "id": "oPJ05FFYVPVp",
        "outputId": "5807397e-7ec8-4c8f-a653-963075c1823f"
      },
      "execution_count": 17,
      "outputs": [
        {
          "output_type": "stream",
          "name": "stdout",
          "text": [
            "Model telah disimpan ke model.pkl\n"
          ]
        }
      ]
    }
  ]
}